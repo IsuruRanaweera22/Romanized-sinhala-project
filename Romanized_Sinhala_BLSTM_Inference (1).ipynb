{
  "nbformat": 4,
  "nbformat_minor": 0,
  "metadata": {
    "colab": {
      "provenance": []
    },
    "kernelspec": {
      "name": "python3",
      "display_name": "Python 3"
    },
    "language_info": {
      "name": "python"
    }
  },
  "cells": [
    {
      "cell_type": "code",
      "metadata": {
        "id": "D7ohobrMEaRZ"
      },
      "source": [
        "import pickle\n",
        "import numpy as np\n",
        "from tensorflow import keras\n"
      ],
      "execution_count": null,
      "outputs": []
    },
    {
      "cell_type": "code",
      "source": [
        "from google.colab import drive\n",
        "drive.mount('/content/drive')"
      ],
      "metadata": {
        "colab": {
          "base_uri": "https://localhost:8080/"
        },
        "id": "MT4A26AXN-RY",
        "outputId": "314d69ac-fefa-435b-bdf2-e59318b4ef77"
      },
      "execution_count": null,
      "outputs": [
        {
          "output_type": "stream",
          "name": "stdout",
          "text": [
            "Mounted at /content/drive\n"
          ]
        }
      ]
    },
    {
      "cell_type": "code",
      "metadata": {
        "id": "VWq2RKHdEvTM"
      },
      "source": [
        "english_dic=open(\"/content/drive/MyDrive/Project/english_dic.pickle\",\"rb\")\n",
        "english_dic=pickle.load(english_dic)\n",
        "\n"
      ],
      "execution_count": null,
      "outputs": []
    },
    {
      "cell_type": "code",
      "source": [
        "inference_dic=open(\"/content/drive/MyDrive/Project/inference_dic.pickle\",\"rb\")\n",
        "inference_dic=pickle.load(inference_dic)"
      ],
      "metadata": {
        "id": "551iD-W3NNvH"
      },
      "execution_count": null,
      "outputs": []
    },
    {
      "cell_type": "code",
      "metadata": {
        "colab": {
          "base_uri": "https://localhost:8080/"
        },
        "id": "l7RACPsHFhfJ",
        "outputId": "575689bf-17d3-4d1c-ef09-f8181403e897"
      },
      "source": [
        "len(english_dic)"
      ],
      "execution_count": null,
      "outputs": [
        {
          "output_type": "execute_result",
          "data": {
            "text/plain": [
              "60"
            ]
          },
          "metadata": {},
          "execution_count": 7
        }
      ]
    },
    {
      "cell_type": "code",
      "metadata": {
        "id": "-Qm50Z0IJn5-"
      },
      "source": [
        "inf_english_dic = {} \n",
        "for key in english_dic:\n",
        "   inf_english_dic[key] = np.argmax(english_dic[key])"
      ],
      "execution_count": null,
      "outputs": []
    },
    {
      "cell_type": "code",
      "metadata": {
        "colab": {
          "base_uri": "https://localhost:8080/"
        },
        "id": "6bdrImgRFmxg",
        "outputId": "1c834954-d283-4060-b0a3-5ec98a77c80e"
      },
      "source": [
        "len(inference_dic)"
      ],
      "execution_count": null,
      "outputs": [
        {
          "output_type": "execute_result",
          "data": {
            "text/plain": [
              "77"
            ]
          },
          "metadata": {},
          "execution_count": 9
        }
      ]
    },
    {
      "cell_type": "code",
      "metadata": {
        "id": "SMmQ77q1GAdP"
      },
      "source": [
        "model=keras.models.load_model('/content/drive/MyDrive/Project/blstm_model.h5')\n"
      ],
      "execution_count": null,
      "outputs": []
    },
    {
      "cell_type": "code",
      "metadata": {
        "id": "PcEYtejTGlIe"
      },
      "source": [
        "def encoding(string):\n",
        "  #string=\"sam2an gedara yai\"\n",
        "  words=string.split()\n",
        "  words=[list(i) for i in words]\n",
        "  sentence=np.zeros((len(words),22,60))\n",
        "  for i,word in enumerate(words):\n",
        "    for j,letter in enumerate(word):\n",
        "      vectorized=inf_english_dic.get(letter)\n",
        "      if vectorized == None:\n",
        "        k = 0\n",
        "      else:\n",
        "        k = vectorized\n",
        "      sentence[i][j][k]=1\n",
        "    sentence[i][j+1:][:]=1\n",
        "  return sentence"
      ],
      "execution_count": null,
      "outputs": []
    },
    {
      "cell_type": "code",
      "metadata": {
        "id": "kmj7XMCuf6qP"
      },
      "source": [
        "def translation(string):\n",
        "  encoded=encoding(string)\n",
        "  results=model.predict(encoded)\n",
        "  \n",
        "  numbers=np.argmax(results,axis=2)\n",
        "  for i, word in enumerate(numbers):\n",
        "    for j, letter in enumerate(word):\n",
        "      if word[j]==word[j-1]==59:\n",
        "        word[j-1:]=0\n",
        "  l=''\n",
        "  for i in numbers:\n",
        "    for j in i:\n",
        "      l+=inference_dic[j]\n",
        "  sinhalized=\" \".join(l.split())\n",
        "\n",
        "  return sinhalized\n"
      ],
      "execution_count": null,
      "outputs": []
    },
    {
      "cell_type": "code",
      "metadata": {
        "colab": {
          "base_uri": "https://localhost:8080/"
        },
        "id": "Yk-xxRzpf7yf",
        "outputId": "2ebae5e7-a2b0-47ae-f99c-cacd5b2f78f7"
      },
      "source": [
        "print(translation(\"suba udasanak\"))"
      ],
      "execution_count": null,
      "outputs": [
        {
          "output_type": "stream",
          "name": "stdout",
          "text": [
            "1/1 [==============================] - 2s 2s/step\n",
            "සුබානනනනනනනනනනනනනනනනනනඋඩසනක්්නනනනනනනනනනනනනනන\n"
          ]
        }
      ]
    },
    {
      "cell_type": "code",
      "metadata": {
        "id": "JiCoBgaIl82N"
      },
      "source": [],
      "execution_count": null,
      "outputs": []
    }
  ]
}