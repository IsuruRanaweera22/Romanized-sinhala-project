{
  "nbformat": 4,
  "nbformat_minor": 0,
  "metadata": {
    "colab": {
      "provenance": []
    },
    "kernelspec": {
      "name": "python3",
      "display_name": "Python 3"
    },
    "language_info": {
      "name": "python"
    }
  },
  "cells": [
    {
      "cell_type": "code",
      "metadata": {
        "id": "N7RDRXJ-76rf"
      },
      "source": [
        "import pickle\n",
        "import numpy as np\n",
        "from tensorflow import keras\n",
        "import re"
      ],
      "execution_count": null,
      "outputs": []
    },
    {
      "cell_type": "code",
      "metadata": {
        "id": "qCD7kePV8MWm"
      },
      "source": [
        "english_dic=open(\"/content/drive/MyDrive/Fiverr/Romanized Sinhala/english_dic.pickle\",\"rb\")\n",
        "english_dic=pickle.load(english_dic)\n",
        "\n",
        "inference_dic=open(\"/content/drive/MyDrive/Fiverr/Romanized Sinhala/inference_dic.pickle\",\"rb\")\n",
        "inference_dic=pickle.load(inference_dic)"
      ],
      "execution_count": null,
      "outputs": []
    },
    {
      "cell_type": "code",
      "metadata": {
        "id": "VpAYySTG8VvI"
      },
      "source": [
        "inf_english_dic = {} \n",
        "for key in english_dic:\n",
        "   inf_english_dic[key] = np.argmax(english_dic[key])"
      ],
      "execution_count": null,
      "outputs": []
    },
    {
      "cell_type": "code",
      "metadata": {
        "id": "l8wJyM629-Kr"
      },
      "source": [
        "model=keras.models.load_model('/content/drive/MyDrive/Fiverr/Romanized Sinhala/blstm_model.h5')\n"
      ],
      "execution_count": null,
      "outputs": []
    },
    {
      "cell_type": "code",
      "metadata": {
        "id": "be9bZOiRJAaZ"
      },
      "source": [
        "def zerolistmaker(n):\n",
        "    listofzeros = [0] * n\n",
        "    return listofzeros"
      ],
      "execution_count": null,
      "outputs": []
    },
    {
      "cell_type": "code",
      "metadata": {
        "id": "n9tYE44g8f5a"
      },
      "source": [
        "def encoding(string):\n",
        "  #string=\"sam2an gedara yai\"\n",
        "  punctuations=zerolistmaker(20)\n",
        "  words=re.findall(r\"[\\w']+|[.,!?;]\", string)\n",
        "  words=[list(i) for i in words]\n",
        "  sentence=np.zeros((len(words),22,60))\n",
        "  for i,word in enumerate(words):\n",
        "    if inf_english_dic.get(words[i][0])==None:\n",
        "      punctuations[i]=words[i][0]\n",
        "    for j,letter in enumerate(word):\n",
        "      vectorized=inf_english_dic.get(letter)\n",
        "      if vectorized == None:\n",
        "        k = 0\n",
        "      else:\n",
        "        k = vectorized\n",
        "      sentence[i][j][k]=1\n",
        "    sentence[i][j+1:][:]=1\n",
        "  return punctuations,sentence"
      ],
      "execution_count": null,
      "outputs": []
    },
    {
      "cell_type": "code",
      "metadata": {
        "id": "JqITxU1D8jcS"
      },
      "source": [
        "def translation(string):\n",
        "  punctuations,encoded=encoding(string)\n",
        "  results=model.predict(encoded)\n",
        "  \n",
        "  numbers=np.argmax(results,axis=2)\n",
        "  for i, word in enumerate(numbers):\n",
        "    for j, letter in enumerate(word):\n",
        "      if word[j]==word[j-1]==59:\n",
        "        word[j-1:]=0\n",
        "  l=''\n",
        "  for i in numbers:\n",
        "    for j in i:\n",
        "      l+=inference_dic[j]\n",
        "  sinhalized=\" \".join(l.split())\n",
        "  sinhalized=sinhalized.split()\n",
        "  for i,punctuation in enumerate(punctuations):\n",
        "    if punctuation != 0 and i<=len(sinhalized):\n",
        "      sinhalized[i] = punctuation\n",
        "\n",
        "  sinhalized=\" \".join(sinhalized)\n",
        "  sinhalized = \" \".join(sinhalized.split())\n",
        "  return sinhalized\n",
        "  #return punctuations"
      ],
      "execution_count": null,
      "outputs": []
    },
    {
      "cell_type": "code",
      "metadata": {
        "colab": {
          "base_uri": "https://localhost:8080/"
        },
        "id": "ndq9GaYrNVpC",
        "outputId": "a5adc196-944a-4fe4-efa5-c6dacdb35269"
      },
      "source": [
        "print(translation(\"aechchita haal garanda\"))"
      ],
      "execution_count": null,
      "outputs": [
        {
          "output_type": "stream",
          "name": "stdout",
          "text": [
            "අා්චිට හාල් ගරන්ඩ\n"
          ]
        }
      ]
    },
    {
      "cell_type": "code",
      "metadata": {
        "id": "eT7e2VF4Fubi"
      },
      "source": [],
      "execution_count": null,
      "outputs": []
    }
  ]
}